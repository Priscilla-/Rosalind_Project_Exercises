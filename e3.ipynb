{
 "cells": [
  {
   "cell_type": "code",
   "execution_count": 106,
   "metadata": {},
   "outputs": [
    {
     "name": "stdout",
     "output_type": "stream",
     "text": [
      "75 86 103 110\n",
      "\n",
      "Acanthosaura tricolor\n"
     ]
    }
   ],
   "source": [
    "import numpy as np\n",
    "\n",
    "file      = open(\"rosalind_ini3.txt\")\n",
    "letters   = file.readline()\n",
    "\n",
    "# Ignore first row with letters\n",
    "for i in range(0):\n",
    "    file.readline()\n",
    "\n",
    "a,b,c,d = file.readline().split(\" \")\n",
    "\n",
    "print(a,b,c,d)\n",
    "\n",
    "ab = letters[int(a):int(b)+1]\n",
    "cd = letters[int(c):int(d)+1]\n",
    "\n",
    "text = ab+\" \"+cd\n",
    "print(text)"
   ]
  },
  {
   "cell_type": "code",
   "execution_count": null,
   "metadata": {
    "collapsed": true
   },
   "outputs": [],
   "source": []
  }
 ],
 "metadata": {
  "kernelspec": {
   "display_name": "Python 3",
   "language": "python",
   "name": "python3"
  },
  "language_info": {
   "codemirror_mode": {
    "name": "ipython",
    "version": 3
   },
   "file_extension": ".py",
   "mimetype": "text/x-python",
   "name": "python",
   "nbconvert_exporter": "python",
   "pygments_lexer": "ipython3",
   "version": "3.6.1"
  }
 },
 "nbformat": 4,
 "nbformat_minor": 2
}
